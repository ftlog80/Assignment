{
 "nbformat": 4,
 "nbformat_minor": 2,
 "metadata": {
  "language_info": {
   "name": "python",
   "codemirror_mode": {
    "name": "ipython",
    "version": 3
   },
   "version": "3.8.2-final"
  },
  "orig_nbformat": 2,
  "file_extension": ".py",
  "mimetype": "text/x-python",
  "name": "python",
  "npconvert_exporter": "python",
  "pygments_lexer": "ipython3",
  "version": 3,
  "kernelspec": {
   "name": "python38264bita27fde4395d5453b865cf2d1a953e4ac",
   "display_name": "Python 3.8.2 64-bit"
  }
 },
 "cells": [
  {
   "cell_type": "code",
   "execution_count": 29,
   "metadata": {},
   "outputs": [
    {
     "output_type": "stream",
     "name": "stdout",
     "text": "You are not in the risky group\n"
    }
   ],
   "source": [
    "addiction = input(\"Are you a cigaratte addict (y/n) ? \").lower().strip()\n",
    "age = int(input(\"Enter your age : \"))\n",
    "chronic = input(\"Do you have a chronic disease (y/n) ? \").lower().strip()\n",
    "immune = input(\"is your imnue system too weak (y/n) ? \").lower().strip()\n",
    "if addiction == \"y\" or age > 75:\n",
    "    print(\"You are in the risky group\")\n",
    "elif chronic == \"y\":\n",
    "    print(\"You are in the risky group\")\n",
    "elif immune == \"y\":\n",
    "    print(\"You are in the risky group\")\n",
    "else:\n",
    "    print(\"You are not in the risky group\")\n",
    ""
   ]
  }
 ]
}